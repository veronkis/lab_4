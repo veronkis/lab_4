{
 "cells": [
  {
   "cell_type": "code",
   "execution_count": 2,
   "metadata": {
    "colab": {
     "base_uri": "https://localhost:8080/",
     "height": 243
    },
    "collapsed": true,
    "id": "AZUs5ADLfqU_",
    "outputId": "54540c71-6710-4565-d715-4b3e0dd0fd39"
   },
   "outputs": [
    {
     "data": {
      "text/html": [
       "<div>\n",
       "<style scoped>\n",
       "    .dataframe tbody tr th:only-of-type {\n",
       "        vertical-align: middle;\n",
       "    }\n",
       "\n",
       "    .dataframe tbody tr th {\n",
       "        vertical-align: top;\n",
       "    }\n",
       "\n",
       "    .dataframe thead th {\n",
       "        text-align: right;\n",
       "    }\n",
       "</style>\n",
       "<table border=\"1\" class=\"dataframe\">\n",
       "  <thead>\n",
       "    <tr style=\"text-align: right;\">\n",
       "      <th></th>\n",
       "      <th>sample_id</th>\n",
       "      <th>variety</th>\n",
       "      <th>region</th>\n",
       "      <th>quality_score</th>\n",
       "      <th>quality_category</th>\n",
       "      <th>ripeness_index</th>\n",
       "      <th>ripeness_category</th>\n",
       "      <th>sugar_content_brix</th>\n",
       "      <th>firmness_kgf</th>\n",
       "      <th>length_cm</th>\n",
       "      <th>weight_g</th>\n",
       "      <th>harvest_date</th>\n",
       "      <th>tree_age_years</th>\n",
       "      <th>altitude_m</th>\n",
       "      <th>rainfall_mm</th>\n",
       "      <th>soil_nitrogen_ppm</th>\n",
       "    </tr>\n",
       "  </thead>\n",
       "  <tbody>\n",
       "    <tr>\n",
       "      <th>0</th>\n",
       "      <td>1</td>\n",
       "      <td>Manzano</td>\n",
       "      <td>Colombia</td>\n",
       "      <td>1.88</td>\n",
       "      <td>Processing</td>\n",
       "      <td>2.11</td>\n",
       "      <td>Turning</td>\n",
       "      <td>16.83</td>\n",
       "      <td>3.53</td>\n",
       "      <td>21.44</td>\n",
       "      <td>146.92</td>\n",
       "      <td>2023-10-16</td>\n",
       "      <td>13.7</td>\n",
       "      <td>58.2</td>\n",
       "      <td>2440.5</td>\n",
       "      <td>183.6</td>\n",
       "    </tr>\n",
       "    <tr>\n",
       "      <th>1</th>\n",
       "      <td>2</td>\n",
       "      <td>Plantain</td>\n",
       "      <td>Guatemala</td>\n",
       "      <td>2.42</td>\n",
       "      <td>Processing</td>\n",
       "      <td>4.25</td>\n",
       "      <td>Ripe</td>\n",
       "      <td>16.73</td>\n",
       "      <td>4.09</td>\n",
       "      <td>26.11</td>\n",
       "      <td>160.48</td>\n",
       "      <td>2023-10-14</td>\n",
       "      <td>5.1</td>\n",
       "      <td>280.2</td>\n",
       "      <td>2374.6</td>\n",
       "      <td>109.8</td>\n",
       "    </tr>\n",
       "    <tr>\n",
       "      <th>2</th>\n",
       "      <td>3</td>\n",
       "      <td>Burro</td>\n",
       "      <td>Ecuador</td>\n",
       "      <td>3.57</td>\n",
       "      <td>Premium</td>\n",
       "      <td>6.24</td>\n",
       "      <td>Overripe</td>\n",
       "      <td>21.34</td>\n",
       "      <td>1.63</td>\n",
       "      <td>25.20</td>\n",
       "      <td>225.27</td>\n",
       "      <td>2023-09-08</td>\n",
       "      <td>17.7</td>\n",
       "      <td>1246.9</td>\n",
       "      <td>1191.5</td>\n",
       "      <td>147.7</td>\n",
       "    </tr>\n",
       "    <tr>\n",
       "      <th>3</th>\n",
       "      <td>4</td>\n",
       "      <td>Manzano</td>\n",
       "      <td>Ecuador</td>\n",
       "      <td>2.21</td>\n",
       "      <td>Processing</td>\n",
       "      <td>5.39</td>\n",
       "      <td>Ripe</td>\n",
       "      <td>16.75</td>\n",
       "      <td>3.31</td>\n",
       "      <td>13.08</td>\n",
       "      <td>137.80</td>\n",
       "      <td>2023-10-07</td>\n",
       "      <td>13.0</td>\n",
       "      <td>1150.2</td>\n",
       "      <td>2845.1</td>\n",
       "      <td>92.8</td>\n",
       "    </tr>\n",
       "    <tr>\n",
       "      <th>4</th>\n",
       "      <td>5</td>\n",
       "      <td>Red Dacca</td>\n",
       "      <td>Ecuador</td>\n",
       "      <td>2.35</td>\n",
       "      <td>Processing</td>\n",
       "      <td>5.84</td>\n",
       "      <td>Ripe</td>\n",
       "      <td>16.90</td>\n",
       "      <td>3.07</td>\n",
       "      <td>12.98</td>\n",
       "      <td>227.84</td>\n",
       "      <td>2023-10-02</td>\n",
       "      <td>4.8</td>\n",
       "      <td>526.0</td>\n",
       "      <td>2136.9</td>\n",
       "      <td>129.7</td>\n",
       "    </tr>\n",
       "  </tbody>\n",
       "</table>\n",
       "</div>"
      ],
      "text/plain": [
       "   sample_id    variety     region  quality_score quality_category  \\\n",
       "0          1    Manzano   Colombia           1.88       Processing   \n",
       "1          2   Plantain  Guatemala           2.42       Processing   \n",
       "2          3      Burro    Ecuador           3.57          Premium   \n",
       "3          4    Manzano    Ecuador           2.21       Processing   \n",
       "4          5  Red Dacca    Ecuador           2.35       Processing   \n",
       "\n",
       "   ripeness_index ripeness_category  sugar_content_brix  firmness_kgf  \\\n",
       "0            2.11           Turning               16.83          3.53   \n",
       "1            4.25              Ripe               16.73          4.09   \n",
       "2            6.24          Overripe               21.34          1.63   \n",
       "3            5.39              Ripe               16.75          3.31   \n",
       "4            5.84              Ripe               16.90          3.07   \n",
       "\n",
       "   length_cm  weight_g harvest_date  tree_age_years  altitude_m  rainfall_mm  \\\n",
       "0      21.44    146.92   2023-10-16            13.7        58.2       2440.5   \n",
       "1      26.11    160.48   2023-10-14             5.1       280.2       2374.6   \n",
       "2      25.20    225.27   2023-09-08            17.7      1246.9       1191.5   \n",
       "3      13.08    137.80   2023-10-07            13.0      1150.2       2845.1   \n",
       "4      12.98    227.84   2023-10-02             4.8       526.0       2136.9   \n",
       "\n",
       "   soil_nitrogen_ppm  \n",
       "0              183.6  \n",
       "1              109.8  \n",
       "2              147.7  \n",
       "3               92.8  \n",
       "4              129.7  "
      ]
     },
     "execution_count": 2,
     "metadata": {},
     "output_type": "execute_result"
    }
   ],
   "source": [
    "import pandas as pd\n",
    "import numpy as np\n",
    "import matplotlib.pyplot as plt\n",
    "import seaborn as sns\n",
    "from scipy.stats import normaltest, pearsonr\n",
    "\n",
    "# Загрузка данных из локального файла\n",
    "data = pd.read_csv(\"banana_quality_dataset.csv\")\n",
    "\n",
    "# Просмотр первых строк для понимания структуры данных\n",
    "data.head()"
   ]
  },
  {
   "cell_type": "markdown",
   "metadata": {
    "id": "t6ZdQcBNTHtc"
   },
   "source": [
    "# Анализ структуры данных"
   ]
  },
  {
   "cell_type": "code",
   "execution_count": null,
   "metadata": {
    "colab": {
     "base_uri": "https://localhost:8080/"
    },
    "collapsed": true,
    "id": "v7bioThDTOHz",
    "outputId": "84aaa96c-a8b7-4354-dd0e-13b89f89247a"
   },
   "outputs": [
    {
     "name": "stdout",
     "output_type": "stream",
     "text": [
      "<class 'pandas.core.frame.DataFrame'>\n",
      "RangeIndex: 1000 entries, 0 to 999\n",
      "Data columns (total 16 columns):\n",
      " #   Column              Non-Null Count  Dtype  \n",
      "---  ------              --------------  -----  \n",
      " 0   sample_id           1000 non-null   int64  \n",
      " 1   variety             1000 non-null   object \n",
      " 2   region              1000 non-null   object \n",
      " 3   quality_score       1000 non-null   float64\n",
      " 4   quality_category    1000 non-null   object \n",
      " 5   ripeness_index      1000 non-null   float64\n",
      " 6   ripeness_category   1000 non-null   object \n",
      " 7   sugar_content_brix  1000 non-null   float64\n",
      " 8   firmness_kgf        1000 non-null   float64\n",
      " 9   length_cm           1000 non-null   float64\n",
      " 10  weight_g            1000 non-null   float64\n",
      " 11  harvest_date        1000 non-null   object \n",
      " 12  tree_age_years      1000 non-null   float64\n",
      " 13  altitude_m          1000 non-null   float64\n",
      " 14  rainfall_mm         1000 non-null   float64\n",
      " 15  soil_nitrogen_ppm   1000 non-null   float64\n",
      "dtypes: float64(10), int64(1), object(5)\n",
      "memory usage: 125.1+ KB\n"
     ]
    }
   ],
   "source": [
    "# Общая информация о датасете\n",
    "data.info()"
   ]
  },
  {
   "cell_type": "code",
   "execution_count": null,
   "metadata": {
    "colab": {
     "base_uri": "https://localhost:8080/",
     "height": 585
    },
    "collapsed": true,
    "id": "JB856Qa-TUj_",
    "outputId": "a1564ad1-7301-47fe-8e52-129fee90063e"
   },
   "outputs": [
    {
     "data": {
      "text/plain": [
       "sample_id             0\n",
       "variety               0\n",
       "region                0\n",
       "quality_score         0\n",
       "quality_category      0\n",
       "ripeness_index        0\n",
       "ripeness_category     0\n",
       "sugar_content_brix    0\n",
       "firmness_kgf          0\n",
       "length_cm             0\n",
       "weight_g              0\n",
       "harvest_date          0\n",
       "tree_age_years        0\n",
       "altitude_m            0\n",
       "rainfall_mm           0\n",
       "soil_nitrogen_ppm     0\n",
       "dtype: int64"
      ]
     },
     "execution_count": 5,
     "metadata": {},
     "output_type": "execute_result"
    }
   ],
   "source": [
    "# Проверка наличия пропущенных значений\n",
    "data.isnull().sum()"
   ]
  },
  {
   "cell_type": "code",
   "execution_count": null,
   "metadata": {
    "colab": {
     "base_uri": "https://localhost:8080/",
     "height": 320
    },
    "collapsed": true,
    "id": "sZsOEOjeTUUH",
    "outputId": "c55d29ca-bba1-4d23-af53-3ae7981bd132"
   },
   "outputs": [
    {
     "data": {
      "text/html": [
       "<div>\n",
       "<style scoped>\n",
       "    .dataframe tbody tr th:only-of-type {\n",
       "        vertical-align: middle;\n",
       "    }\n",
       "\n",
       "    .dataframe tbody tr th {\n",
       "        vertical-align: top;\n",
       "    }\n",
       "\n",
       "    .dataframe thead th {\n",
       "        text-align: right;\n",
       "    }\n",
       "</style>\n",
       "<table border=\"1\" class=\"dataframe\">\n",
       "  <thead>\n",
       "    <tr style=\"text-align: right;\">\n",
       "      <th></th>\n",
       "      <th>sample_id</th>\n",
       "      <th>quality_score</th>\n",
       "      <th>ripeness_index</th>\n",
       "      <th>sugar_content_brix</th>\n",
       "      <th>firmness_kgf</th>\n",
       "      <th>length_cm</th>\n",
       "      <th>weight_g</th>\n",
       "      <th>tree_age_years</th>\n",
       "      <th>altitude_m</th>\n",
       "      <th>rainfall_mm</th>\n",
       "      <th>soil_nitrogen_ppm</th>\n",
       "    </tr>\n",
       "  </thead>\n",
       "  <tbody>\n",
       "    <tr>\n",
       "      <th>count</th>\n",
       "      <td>1000.000000</td>\n",
       "      <td>1000.000000</td>\n",
       "      <td>1000.000000</td>\n",
       "      <td>1000.000000</td>\n",
       "      <td>1000.000000</td>\n",
       "      <td>1000.000000</td>\n",
       "      <td>1000.000000</td>\n",
       "      <td>1000.000000</td>\n",
       "      <td>1000.000000</td>\n",
       "      <td>1000.000000</td>\n",
       "      <td>1000.000000</td>\n",
       "    </tr>\n",
       "    <tr>\n",
       "      <th>mean</th>\n",
       "      <td>500.500000</td>\n",
       "      <td>2.465160</td>\n",
       "      <td>4.042170</td>\n",
       "      <td>18.516830</td>\n",
       "      <td>2.706840</td>\n",
       "      <td>19.882100</td>\n",
       "      <td>164.738930</td>\n",
       "      <td>10.879600</td>\n",
       "      <td>723.556700</td>\n",
       "      <td>1972.992800</td>\n",
       "      <td>104.391300</td>\n",
       "    </tr>\n",
       "    <tr>\n",
       "      <th>std</th>\n",
       "      <td>288.819436</td>\n",
       "      <td>0.540909</td>\n",
       "      <td>1.753211</td>\n",
       "      <td>2.034812</td>\n",
       "      <td>1.289252</td>\n",
       "      <td>5.736318</td>\n",
       "      <td>49.163073</td>\n",
       "      <td>5.215554</td>\n",
       "      <td>427.372855</td>\n",
       "      <td>564.467912</td>\n",
       "      <td>53.607794</td>\n",
       "    </tr>\n",
       "    <tr>\n",
       "      <th>min</th>\n",
       "      <td>1.000000</td>\n",
       "      <td>0.920000</td>\n",
       "      <td>1.020000</td>\n",
       "      <td>15.000000</td>\n",
       "      <td>0.500000</td>\n",
       "      <td>10.000000</td>\n",
       "      <td>81.050000</td>\n",
       "      <td>2.000000</td>\n",
       "      <td>0.400000</td>\n",
       "      <td>1000.500000</td>\n",
       "      <td>10.000000</td>\n",
       "    </tr>\n",
       "    <tr>\n",
       "      <th>25%</th>\n",
       "      <td>250.750000</td>\n",
       "      <td>2.090000</td>\n",
       "      <td>2.447500</td>\n",
       "      <td>16.827500</td>\n",
       "      <td>1.590000</td>\n",
       "      <td>14.902500</td>\n",
       "      <td>122.397500</td>\n",
       "      <td>6.300000</td>\n",
       "      <td>353.950000</td>\n",
       "      <td>1498.750000</td>\n",
       "      <td>60.150000</td>\n",
       "    </tr>\n",
       "    <tr>\n",
       "      <th>50%</th>\n",
       "      <td>500.500000</td>\n",
       "      <td>2.440000</td>\n",
       "      <td>4.110000</td>\n",
       "      <td>18.500000</td>\n",
       "      <td>2.680000</td>\n",
       "      <td>19.890000</td>\n",
       "      <td>163.365000</td>\n",
       "      <td>10.700000</td>\n",
       "      <td>726.000000</td>\n",
       "      <td>1957.400000</td>\n",
       "      <td>104.100000</td>\n",
       "    </tr>\n",
       "    <tr>\n",
       "      <th>75%</th>\n",
       "      <td>750.250000</td>\n",
       "      <td>2.850000</td>\n",
       "      <td>5.562500</td>\n",
       "      <td>20.312500</td>\n",
       "      <td>3.820000</td>\n",
       "      <td>24.800000</td>\n",
       "      <td>205.775000</td>\n",
       "      <td>15.600000</td>\n",
       "      <td>1071.725000</td>\n",
       "      <td>2431.800000</td>\n",
       "      <td>149.850000</td>\n",
       "    </tr>\n",
       "    <tr>\n",
       "      <th>max</th>\n",
       "      <td>1000.000000</td>\n",
       "      <td>3.890000</td>\n",
       "      <td>7.000000</td>\n",
       "      <td>21.980000</td>\n",
       "      <td>5.000000</td>\n",
       "      <td>29.950000</td>\n",
       "      <td>249.890000</td>\n",
       "      <td>20.000000</td>\n",
       "      <td>1498.400000</td>\n",
       "      <td>2992.000000</td>\n",
       "      <td>199.900000</td>\n",
       "    </tr>\n",
       "  </tbody>\n",
       "</table>\n",
       "</div>"
      ],
      "text/plain": [
       "         sample_id  quality_score  ripeness_index  sugar_content_brix  \\\n",
       "count  1000.000000    1000.000000     1000.000000         1000.000000   \n",
       "mean    500.500000       2.465160        4.042170           18.516830   \n",
       "std     288.819436       0.540909        1.753211            2.034812   \n",
       "min       1.000000       0.920000        1.020000           15.000000   \n",
       "25%     250.750000       2.090000        2.447500           16.827500   \n",
       "50%     500.500000       2.440000        4.110000           18.500000   \n",
       "75%     750.250000       2.850000        5.562500           20.312500   \n",
       "max    1000.000000       3.890000        7.000000           21.980000   \n",
       "\n",
       "       firmness_kgf    length_cm     weight_g  tree_age_years   altitude_m  \\\n",
       "count   1000.000000  1000.000000  1000.000000     1000.000000  1000.000000   \n",
       "mean       2.706840    19.882100   164.738930       10.879600   723.556700   \n",
       "std        1.289252     5.736318    49.163073        5.215554   427.372855   \n",
       "min        0.500000    10.000000    81.050000        2.000000     0.400000   \n",
       "25%        1.590000    14.902500   122.397500        6.300000   353.950000   \n",
       "50%        2.680000    19.890000   163.365000       10.700000   726.000000   \n",
       "75%        3.820000    24.800000   205.775000       15.600000  1071.725000   \n",
       "max        5.000000    29.950000   249.890000       20.000000  1498.400000   \n",
       "\n",
       "       rainfall_mm  soil_nitrogen_ppm  \n",
       "count  1000.000000        1000.000000  \n",
       "mean   1972.992800         104.391300  \n",
       "std     564.467912          53.607794  \n",
       "min    1000.500000          10.000000  \n",
       "25%    1498.750000          60.150000  \n",
       "50%    1957.400000         104.100000  \n",
       "75%    2431.800000         149.850000  \n",
       "max    2992.000000         199.900000  "
      ]
     },
     "execution_count": 6,
     "metadata": {},
     "output_type": "execute_result"
    }
   ],
   "source": [
    "# Статистическое описание числовых данных\n",
    "data.describe()"
   ]
  },
  {
   "cell_type": "markdown",
   "metadata": {
    "id": "o2IzSOu-TrJe"
   },
   "source": [
    "# Подготовка данных"
   ]
  },
  {
   "cell_type": "code",
   "execution_count": null,
   "metadata": {
    "colab": {
     "base_uri": "https://localhost:8080/"
    },
    "collapsed": true,
    "id": "WwN8P2yOTuff",
    "outputId": "5ef158c6-58ea-4984-9404-de4021cfe0ff"
   },
   "outputs": [
    {
     "name": "stdout",
     "output_type": "stream",
     "text": [
      "variety: ['Manzano' 'Plantain' 'Burro' 'Red Dacca' 'Fehi' 'Lady Finger' 'Blue Java'\n",
      " 'Cavendish']\n",
      "region: ['Colombia' 'Guatemala' 'Ecuador' 'Costa Rica' 'Brazil' 'Honduras' 'India'\n",
      " 'Philippines']\n",
      "quality_category: ['Processing' 'Premium' 'Good' 'Unripe']\n",
      "ripeness_category: ['Turning' 'Ripe' 'Overripe' 'Green']\n",
      "harvest_date: ['2023-10-16' '2023-10-14' '2023-09-08' '2023-10-07' '2023-10-02'\n",
      " '2023-10-06' '2023-09-04' '2023-10-27' '2023-10-05' '2023-09-02'\n",
      " '2023-09-01' '2023-10-10' '2023-09-29' '2023-09-20' '2023-09-10'\n",
      " '2023-09-28' '2023-09-23' '2023-09-16' '2023-09-17' '2023-10-24'\n",
      " '2023-09-03' '2023-09-11' '2023-10-13' '2023-09-27' '2023-09-21'\n",
      " '2023-09-26' '2023-10-30' '2023-10-08' '2023-10-23' '2023-09-07'\n",
      " '2023-10-19' '2023-09-05' '2023-09-19' '2023-10-03' '2023-09-30'\n",
      " '2023-09-25' '2023-10-21' '2023-09-15' '2023-09-24' '2023-10-01'\n",
      " '2023-10-25' '2023-10-09' '2023-09-09' '2023-10-22' '2023-09-18'\n",
      " '2023-09-22' '2023-10-28' '2023-10-18' '2023-10-15' '2023-09-14'\n",
      " '2023-10-26' '2023-10-29' '2023-10-17' '2023-10-31' '2023-10-04'\n",
      " '2023-10-12' '2023-09-12' '2023-10-11' '2023-09-13' '2023-09-06'\n",
      " '2023-10-20']\n"
     ]
    }
   ],
   "source": [
    "# Проверим уникальные значения в категориальных столбцах (если есть)\n",
    "categorical_columns = data.select_dtypes(include=['object']).columns\n",
    "for col in categorical_columns:\n",
    "    print(f\"{col}: {data[col].unique()}\")"
   ]
  },
  {
   "cell_type": "code",
   "execution_count": null,
   "metadata": {
    "id": "HlcaJwSLTxvv"
   },
   "outputs": [],
   "source": [
    "# Уберем строки с пропущенными значениями\n",
    "data = data.dropna()"
   ]
  },
  {
   "cell_type": "code",
   "execution_count": null,
   "metadata": {
    "id": "57QPin0DTxp_"
   },
   "outputs": [],
   "source": [
    "# Если есть категориальные данные, преобразуем их в числовой формат (например, One-Hot Encoding)\n",
    "if not categorical_columns.empty:\n",
    "    data = pd.get_dummies(data, columns=categorical_columns, drop_first=True)"
   ]
  },
  {
   "cell_type": "code",
   "execution_count": null,
   "metadata": {
    "colab": {
     "base_uri": "https://localhost:8080/"
    },
    "collapsed": true,
    "id": "zE6k6blCTxhe",
    "outputId": "d103fea2-bdbc-4c00-fa9c-f01e350d2459"
   },
   "outputs": [
    {
     "name": "stdout",
     "output_type": "stream",
     "text": [
      "<class 'pandas.core.frame.DataFrame'>\n",
      "RangeIndex: 1000 entries, 0 to 999\n",
      "Data columns (total 91 columns):\n",
      " #   Column                       Non-Null Count  Dtype  \n",
      "---  ------                       --------------  -----  \n",
      " 0   sample_id                    1000 non-null   int64  \n",
      " 1   quality_score                1000 non-null   float64\n",
      " 2   ripeness_index               1000 non-null   float64\n",
      " 3   sugar_content_brix           1000 non-null   float64\n",
      " 4   firmness_kgf                 1000 non-null   float64\n",
      " 5   length_cm                    1000 non-null   float64\n",
      " 6   weight_g                     1000 non-null   float64\n",
      " 7   tree_age_years               1000 non-null   float64\n",
      " 8   altitude_m                   1000 non-null   float64\n",
      " 9   rainfall_mm                  1000 non-null   float64\n",
      " 10  soil_nitrogen_ppm            1000 non-null   float64\n",
      " 11  variety_Burro                1000 non-null   bool   \n",
      " 12  variety_Cavendish            1000 non-null   bool   \n",
      " 13  variety_Fehi                 1000 non-null   bool   \n",
      " 14  variety_Lady Finger          1000 non-null   bool   \n",
      " 15  variety_Manzano              1000 non-null   bool   \n",
      " 16  variety_Plantain             1000 non-null   bool   \n",
      " 17  variety_Red Dacca            1000 non-null   bool   \n",
      " 18  region_Colombia              1000 non-null   bool   \n",
      " 19  region_Costa Rica            1000 non-null   bool   \n",
      " 20  region_Ecuador               1000 non-null   bool   \n",
      " 21  region_Guatemala             1000 non-null   bool   \n",
      " 22  region_Honduras              1000 non-null   bool   \n",
      " 23  region_India                 1000 non-null   bool   \n",
      " 24  region_Philippines           1000 non-null   bool   \n",
      " 25  quality_category_Premium     1000 non-null   bool   \n",
      " 26  quality_category_Processing  1000 non-null   bool   \n",
      " 27  quality_category_Unripe      1000 non-null   bool   \n",
      " 28  ripeness_category_Overripe   1000 non-null   bool   \n",
      " 29  ripeness_category_Ripe       1000 non-null   bool   \n",
      " 30  ripeness_category_Turning    1000 non-null   bool   \n",
      " 31  harvest_date_2023-09-02      1000 non-null   bool   \n",
      " 32  harvest_date_2023-09-03      1000 non-null   bool   \n",
      " 33  harvest_date_2023-09-04      1000 non-null   bool   \n",
      " 34  harvest_date_2023-09-05      1000 non-null   bool   \n",
      " 35  harvest_date_2023-09-06      1000 non-null   bool   \n",
      " 36  harvest_date_2023-09-07      1000 non-null   bool   \n",
      " 37  harvest_date_2023-09-08      1000 non-null   bool   \n",
      " 38  harvest_date_2023-09-09      1000 non-null   bool   \n",
      " 39  harvest_date_2023-09-10      1000 non-null   bool   \n",
      " 40  harvest_date_2023-09-11      1000 non-null   bool   \n",
      " 41  harvest_date_2023-09-12      1000 non-null   bool   \n",
      " 42  harvest_date_2023-09-13      1000 non-null   bool   \n",
      " 43  harvest_date_2023-09-14      1000 non-null   bool   \n",
      " 44  harvest_date_2023-09-15      1000 non-null   bool   \n",
      " 45  harvest_date_2023-09-16      1000 non-null   bool   \n",
      " 46  harvest_date_2023-09-17      1000 non-null   bool   \n",
      " 47  harvest_date_2023-09-18      1000 non-null   bool   \n",
      " 48  harvest_date_2023-09-19      1000 non-null   bool   \n",
      " 49  harvest_date_2023-09-20      1000 non-null   bool   \n",
      " 50  harvest_date_2023-09-21      1000 non-null   bool   \n",
      " 51  harvest_date_2023-09-22      1000 non-null   bool   \n",
      " 52  harvest_date_2023-09-23      1000 non-null   bool   \n",
      " 53  harvest_date_2023-09-24      1000 non-null   bool   \n",
      " 54  harvest_date_2023-09-25      1000 non-null   bool   \n",
      " 55  harvest_date_2023-09-26      1000 non-null   bool   \n",
      " 56  harvest_date_2023-09-27      1000 non-null   bool   \n",
      " 57  harvest_date_2023-09-28      1000 non-null   bool   \n",
      " 58  harvest_date_2023-09-29      1000 non-null   bool   \n",
      " 59  harvest_date_2023-09-30      1000 non-null   bool   \n",
      " 60  harvest_date_2023-10-01      1000 non-null   bool   \n",
      " 61  harvest_date_2023-10-02      1000 non-null   bool   \n",
      " 62  harvest_date_2023-10-03      1000 non-null   bool   \n",
      " 63  harvest_date_2023-10-04      1000 non-null   bool   \n",
      " 64  harvest_date_2023-10-05      1000 non-null   bool   \n",
      " 65  harvest_date_2023-10-06      1000 non-null   bool   \n",
      " 66  harvest_date_2023-10-07      1000 non-null   bool   \n",
      " 67  harvest_date_2023-10-08      1000 non-null   bool   \n",
      " 68  harvest_date_2023-10-09      1000 non-null   bool   \n",
      " 69  harvest_date_2023-10-10      1000 non-null   bool   \n",
      " 70  harvest_date_2023-10-11      1000 non-null   bool   \n",
      " 71  harvest_date_2023-10-12      1000 non-null   bool   \n",
      " 72  harvest_date_2023-10-13      1000 non-null   bool   \n",
      " 73  harvest_date_2023-10-14      1000 non-null   bool   \n",
      " 74  harvest_date_2023-10-15      1000 non-null   bool   \n",
      " 75  harvest_date_2023-10-16      1000 non-null   bool   \n",
      " 76  harvest_date_2023-10-17      1000 non-null   bool   \n",
      " 77  harvest_date_2023-10-18      1000 non-null   bool   \n",
      " 78  harvest_date_2023-10-19      1000 non-null   bool   \n",
      " 79  harvest_date_2023-10-20      1000 non-null   bool   \n",
      " 80  harvest_date_2023-10-21      1000 non-null   bool   \n",
      " 81  harvest_date_2023-10-22      1000 non-null   bool   \n",
      " 82  harvest_date_2023-10-23      1000 non-null   bool   \n",
      " 83  harvest_date_2023-10-24      1000 non-null   bool   \n",
      " 84  harvest_date_2023-10-25      1000 non-null   bool   \n",
      " 85  harvest_date_2023-10-26      1000 non-null   bool   \n",
      " 86  harvest_date_2023-10-27      1000 non-null   bool   \n",
      " 87  harvest_date_2023-10-28      1000 non-null   bool   \n",
      " 88  harvest_date_2023-10-29      1000 non-null   bool   \n",
      " 89  harvest_date_2023-10-30      1000 non-null   bool   \n",
      " 90  harvest_date_2023-10-31      1000 non-null   bool   \n",
      "dtypes: bool(80), float64(10), int64(1)\n",
      "memory usage: 164.2 KB\n"
     ]
    }
   ],
   "source": [
    "# Проверим финальную структуру после подготовки\n",
    "data.info()"
   ]
  },
  {
   "cell_type": "markdown",
   "metadata": {
    "id": "QJ53lpTUUyDO"
   },
   "source": [
    "# Визуализация данных"
   ]
  },
  {
   "cell_type": "code",
   "execution_count": null,
   "metadata": {
    "colab": {
     "base_uri": "https://localhost:8080/",
     "height": 485
    },
    "id": "EVUWLwWhU_d5",
    "outputId": "5f17c6aa-65fe-4790-983f-f26dd50acaf1"
   },
   "outputs": [
    {
     "data": {
      "image/png": "[encoded data removed]",
      "text/plain": [
       "<Figure size 640x480 with 1 Axes>"
      ]
     },
     "metadata": {},
     "output_type": "display_data"
    }
   ],
   "source": [
    "# Построение гистограммы для одного из числовых столбцов (например, веса бананов)\n",
    "plt.hist(data['weight_g'], bins=30, color='yellow', edgecolor='black')\n",
    "plt.title(\"Распределение веса бананов\")\n",
    "plt.xlabel(\"Вес\")\n",
    "plt.ylabel(\"Частота\")\n",
    "\n",
    "x_ticks = np.arange(data['weight_g'].min(), data['weight_g'].max() + 1, step=5)  # Задаем шаг, например, 50\n",
    "plt.xticks(x_ticks, rotation=90)  # Опционально поворачиваем подписи оси X для лучшей читаемости\n",
    "\n",
    "plt.show()"
   ]
  },
  {
   "cell_type": "code",
   "execution_count": null,
   "metadata": {
    "colab": {
     "base_uri": "https://localhost:8080/",
     "height": 716
    },
    "collapsed": true,
    "id": "e_FyfKrzVCp4",
    "outputId": "909cf463-1415-4798-c0c9-e7f00b91482d"
   },
   "outputs": [
    {
     "data": {
      "image/png": "[encoded data removed]",
      "text/plain": [
       "<Figure size 800x600 with 1 Axes>"
      ]
     },
     "metadata": {},
     "output_type": "display_data"
    }
   ],
   "source": [
    "# Точечная диаграмма веса и длины бананов\n",
    "plt.figure(figsize=(8, 6))\n",
    "sns.scatterplot(x=data['length_cm'], y=data['weight_g'], color=\"green\")\n",
    "plt.title(\"Зависимость веса от длины бананов\", fontsize=16)\n",
    "plt.xlabel(\"Длина\", fontsize=12)\n",
    "plt.ylabel(\"Вес\", fontsize=12)\n",
    "plt.grid()\n",
    "plt.show()"
   ]
  },
  {
   "cell_type": "markdown",
   "metadata": {
    "id": "8JHN6Maubh4O"
   },
   "source": [
    "# **Проверка статистической гипотезы**"
   ]
  },
  {
   "cell_type": "markdown",
   "metadata": {
    "id": "oQJYzsenb3hg"
   },
   "source": [
    "Гипотеза: Вес бананов распределен нормально.\n",
    "Для проверки нормальности используем тест D'Агостино."
   ]
  },
  {
   "cell_type": "code",
   "execution_count": null,
   "metadata": {
    "colab": {
     "base_uri": "https://localhost:8080/"
    },
    "id": "03Y88tTZbnZW",
    "outputId": "fb227464-6f02-4027-c37e-1e9c7536c7cb"
   },
   "outputs": [
    {
     "name": "stdout",
     "output_type": "stream",
     "text": [
      "Статистика: 653.8417576244608, p-value: 1.0472884474305274e-142\n",
      "Нулевая гипотеза отвергается: данные не распределены нормально.\n"
     ]
    }
   ],
   "source": [
    "stat, p_value = normaltest(data['weight_g'])\n",
    "print(f\"Статистика: {stat}, p-value: {p_value}\")\n",
    "\n",
    "if p_value < 0.05:\n",
    "    print(\"Нулевая гипотеза отвергается: данные не распределены нормально.\")\n",
    "else:\n",
    "    print(\"Нулевая гипотеза не отвергается: данные распределены нормально.\")\n"
   ]
  },
  {
   "cell_type": "markdown",
   "metadata": {
    "id": "10ySwelucltt"
   },
   "source": [
    "Проверка корреляции между весом и другими числовыми переменными"
   ]
  },
  {
   "cell_type": "code",
   "execution_count": null,
   "metadata": {
    "colab": {
     "base_uri": "https://localhost:8080/"
    },
    "id": "hZ28ba5vcocV",
    "outputId": "3280bdd7-e87a-418b-c055-3d54d8412fd7"
   },
   "outputs": [
    {
     "name": "stdout",
     "output_type": "stream",
     "text": [
      "Коэффициент корреляции: -0.055879560826401796, p-value: 0.07735611000548437\n",
      "Корреляция между весом и длиной статистически незначима.\n"
     ]
    }
   ],
   "source": [
    "# Корреляция между весом и длиной банана\n",
    "corr, p_value_corr = pearsonr(data['weight_g'], data['length_cm'])\n",
    "print(f\"Коэффициент корреляции: {corr}, p-value: {p_value_corr}\")\n",
    "\n",
    "if p_value_corr < 0.05:\n",
    "    print(\"Существует статистически значимая корреляция между весом и длиной.\")\n",
    "else:\n",
    "    print(\"Корреляция между весом и длиной статистически незначима.\")\n"
   ]
  }
 ],
 "metadata": {
  "colab": {
   "provenance": []
  },
  "kernelspec": {
   "display_name": "Python 3",
   "name": "python3"
  },
  "language_info": {
   "codemirror_mode": {
    "name": "ipython",
    "version": 3
   },
   "file_extension": ".py",
   "mimetype": "text/x-python",
   "name": "python",
   "nbconvert_exporter": "python",
   "pygments_lexer": "ipython3",
   "version": "3.12.8"
  }
 },
 "nbformat": 4,
 "nbformat_minor": 0
}
